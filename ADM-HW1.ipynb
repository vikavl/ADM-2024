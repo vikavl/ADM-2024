{
 "cells": [
  {
   "cell_type": "markdown",
   "id": "5cef7af3-6a40-4f30-9d71-35349b8e90ed",
   "metadata": {},
   "source": [
    "# Introduction\n",
    "### Say \"Hello, World!\" With Python"
   ]
  },
  {
   "cell_type": "code",
   "execution_count": 1,
   "id": "e90a72c7-aef4-4371-b0f2-c2d19b45091f",
   "metadata": {},
   "outputs": [
    {
     "name": "stdout",
     "output_type": "stream",
     "text": [
      "Hello, World!\n"
     ]
    }
   ],
   "source": [
    "print(\"Hello, World!\")"
   ]
  },
  {
   "cell_type": "markdown",
   "id": "615999ad-2cdb-4fdb-9b0f-ad25fa03089a",
   "metadata": {},
   "source": [
    "### Python If-Else"
   ]
  },
  {
   "cell_type": "code",
   "execution_count": 2,
   "id": "e4fe5d31-18a9-4151-a620-c5e517d712c7",
   "metadata": {},
   "outputs": [
    {
     "name": "stdin",
     "output_type": "stream",
     "text": [
      " 5\n"
     ]
    },
    {
     "name": "stdout",
     "output_type": "stream",
     "text": [
      "Weird\n"
     ]
    }
   ],
   "source": [
    "n = int(input().strip())\n",
    "#odd (1, 3, 5...) - weird\n",
    "if n%2!=0:\n",
    "    print(\"Weird\")\n",
    "#even (2, 4, 6...)\n",
    "else:\n",
    "    if 2<=n<=5:\n",
    "        print(\"Not Weird\")\n",
    "    elif 6<=n<=20:\n",
    "        print(\"Weird\")\n",
    "    elif 20<=n:\n",
    "        print(\"Not Weird\")"
   ]
  },
  {
   "cell_type": "markdown",
   "id": "aef5fb0a-7329-4aa0-9329-fc38bc5e30f5",
   "metadata": {},
   "source": [
    "### Arithmetic Operators"
   ]
  },
  {
   "cell_type": "code",
   "execution_count": 3,
   "id": "de76d93e-5af0-44e6-94f0-248a5aef0cc2",
   "metadata": {},
   "outputs": [
    {
     "name": "stdin",
     "output_type": "stream",
     "text": [
      " 5\n",
      " 10\n"
     ]
    },
    {
     "name": "stdout",
     "output_type": "stream",
     "text": [
      "15\n",
      "-5\n",
      "50\n"
     ]
    }
   ],
   "source": [
    "a = int(input())\n",
    "b = int(input())\n",
    "print(a+b)\n",
    "print(a-b)\n",
    "print(a*b)"
   ]
  },
  {
   "cell_type": "markdown",
   "id": "eee28ddc-7d7f-49fe-8048-8684eb21a378",
   "metadata": {},
   "source": [
    "### Python: Division"
   ]
  },
  {
   "cell_type": "code",
   "execution_count": 4,
   "id": "335653da-68af-4bb8-9646-23cc6e68575f",
   "metadata": {},
   "outputs": [
    {
     "name": "stdin",
     "output_type": "stream",
     "text": [
      " 3\n",
      " 4\n"
     ]
    },
    {
     "name": "stdout",
     "output_type": "stream",
     "text": [
      "0\n",
      "0.75\n"
     ]
    }
   ],
   "source": [
    "a = int(input())\n",
    "b = int(input())\n",
    "print(a//b)\n",
    "print(a/b)"
   ]
  },
  {
   "cell_type": "markdown",
   "id": "732ba0c2-89d8-4081-a228-0bb99d8578c9",
   "metadata": {},
   "source": [
    "### Loops"
   ]
  },
  {
   "cell_type": "code",
   "execution_count": 5,
   "id": "c94c13ec-08ea-482b-a7d0-c95abe7c366a",
   "metadata": {},
   "outputs": [
    {
     "name": "stdin",
     "output_type": "stream",
     "text": [
      " 5\n"
     ]
    },
    {
     "name": "stdout",
     "output_type": "stream",
     "text": [
      "0\n",
      "1\n",
      "4\n",
      "9\n",
      "16\n"
     ]
    }
   ],
   "source": [
    "n = int(input())\n",
    "for i in range(n):\n",
    "    print(i**2)"
   ]
  },
  {
   "cell_type": "markdown",
   "id": "a567036b-db89-42b6-af16-55dcac98ab5d",
   "metadata": {},
   "source": [
    "### Write a function"
   ]
  },
  {
   "cell_type": "code",
   "execution_count": 7,
   "id": "3bab8936-41dc-4220-9ee1-9f987ff23cdb",
   "metadata": {},
   "outputs": [
    {
     "name": "stdin",
     "output_type": "stream",
     "text": [
      " 1990\n"
     ]
    },
    {
     "name": "stdout",
     "output_type": "stream",
     "text": [
      "False\n"
     ]
    }
   ],
   "source": [
    "def is_leap(year):\n",
    "    leap = False\n",
    "    if year % 4 == 0 and year % 100 != 0:\n",
    "        leap = True\n",
    "    elif year % 100 == 0 and year % 400 == 0:\n",
    "        leap = True\n",
    "    return leap\n",
    "\n",
    "year = int(input())\n",
    "print(is_leap(year))"
   ]
  },
  {
   "cell_type": "markdown",
   "id": "adf33001-b230-4fa8-b348-8cd129addbdc",
   "metadata": {},
   "source": [
    "### Print Function"
   ]
  },
  {
   "cell_type": "code",
   "execution_count": 8,
   "id": "614015b4-d6d0-4341-a7c3-28d7c8eb4431",
   "metadata": {},
   "outputs": [
    {
     "name": "stdin",
     "output_type": "stream",
     "text": [
      " 3\n"
     ]
    },
    {
     "name": "stdout",
     "output_type": "stream",
     "text": [
      "123"
     ]
    }
   ],
   "source": [
    "n = int(input())\n",
    "for i in range(1, n+1):\n",
    "    print(i, end='')"
   ]
  },
  {
   "cell_type": "markdown",
   "id": "2f86409e-e19c-4305-9a74-c952a70bbbfc",
   "metadata": {},
   "source": [
    "# Data types\n",
    "### List Comprehensions"
   ]
  },
  {
   "cell_type": "code",
   "execution_count": 9,
   "id": "af03891e-3dd7-47d5-bbc4-d18d0ce493f6",
   "metadata": {},
   "outputs": [
    {
     "name": "stdin",
     "output_type": "stream",
     "text": [
      " 1\n",
      " 1\n",
      " 2\n",
      " 3\n"
     ]
    },
    {
     "name": "stdout",
     "output_type": "stream",
     "text": [
      "[[0, 0, 0], [0, 0, 1], [0, 0, 2], [0, 1, 0], [0, 1, 1], [1, 0, 0], [1, 0, 1], [1, 1, 0], [1, 1, 2]]\n"
     ]
    }
   ],
   "source": [
    "x = int(input())\n",
    "y = int(input())\n",
    "z = int(input())\n",
    "n = int(input())\n",
    "result = []\n",
    "for i in range(x+1):\n",
    "    for j in range(y+1):\n",
    "        for k in range(z+1):\n",
    "            if (i+j+k) != n:\n",
    "                result.append([i, j, k])\n",
    "print(result)"
   ]
  },
  {
   "cell_type": "markdown",
   "id": "96589edd-ce61-46e0-9b6d-44251d23bba3",
   "metadata": {},
   "source": [
    "### Find the Runner-Up Score!"
   ]
  },
  {
   "cell_type": "code",
   "execution_count": 10,
   "id": "217dea55-ee7a-4584-8f66-84c1c25dff47",
   "metadata": {},
   "outputs": [
    {
     "name": "stdin",
     "output_type": "stream",
     "text": [
      " 5\n",
      " 2 3 6 6 5\n"
     ]
    },
    {
     "name": "stdout",
     "output_type": "stream",
     "text": [
      "5\n"
     ]
    }
   ],
   "source": [
    "n = int(input())\n",
    "arr = [int(i) for i in input().split()] \n",
    "arr = sorted(arr)\n",
    "maxEl = arr[-1]\n",
    "    \n",
    "runnerUp = arr[0]\n",
    "for i in arr:\n",
    "    if runnerUp <= i and i != maxEl:\n",
    "        runnerUp = i    \n",
    "print(runnerUp)"
   ]
  },
  {
   "cell_type": "markdown",
   "id": "9660def2-789b-44f9-a017-47d2b9bd5f5f",
   "metadata": {},
   "source": [
    "### Nested Lists"
   ]
  },
  {
   "cell_type": "code",
   "execution_count": 11,
   "id": "c1f00f8d-cc35-403c-b2f4-d5c5baabe6a6",
   "metadata": {},
   "outputs": [
    {
     "name": "stdin",
     "output_type": "stream",
     "text": [
      " 5\n",
      " Harry\n",
      " 37.21\n",
      " Berry\n",
      " 37.21\n",
      " Tina\n",
      " 37.2\n",
      " Akriti\n",
      " 41\n",
      " Harsh\n",
      " 39\n"
     ]
    },
    {
     "name": "stdout",
     "output_type": "stream",
     "text": [
      "Berry\n",
      "Harry\n"
     ]
    }
   ],
   "source": [
    "N = int(input())\n",
    "records = []\n",
    "for _ in range(N):\n",
    "    st_name = input().strip()\n",
    "    st_grade = float(input())\n",
    "    records.append([st_name, st_grade])\n",
    "\n",
    "grades = list(sorted([i[1] for i in records]))[::-1]\n",
    "lowest = grades[-1]\n",
    "while lowest in grades:\n",
    "    grades.remove(lowest)\n",
    "second_lowest = grades[-1]\n",
    "names = []\n",
    "for i in records:\n",
    "    if i[1] == second_lowest:\n",
    "        names.append(i[0])\n",
    "names = sorted(names)\n",
    "for name in names:\n",
    "    print(name)"
   ]
  },
  {
   "cell_type": "markdown",
   "id": "81c669f2-740b-4e46-ac89-a764d6687b10",
   "metadata": {},
   "source": [
    "### Finding the percentage"
   ]
  },
  {
   "cell_type": "code",
   "execution_count": 12,
   "id": "6e048b73-d616-4759-9a0f-461cb0620caa",
   "metadata": {},
   "outputs": [
    {
     "name": "stdin",
     "output_type": "stream",
     "text": [
      " 3\n",
      " Krishna 67 68 69\n",
      " Arjun 70 98 63\n",
      " Malika 52 56 60\n",
      " Malika\n"
     ]
    },
    {
     "name": "stdout",
     "output_type": "stream",
     "text": [
      "56.00\n"
     ]
    }
   ],
   "source": [
    "n = int(input())\n",
    "student_marks = {}\n",
    "for _ in range(n):\n",
    "    name, *line = input().split()\n",
    "    scores = list(map(float, line))\n",
    "    student_marks[name] = scores\n",
    "query_name = input()\n",
    "result = sum(student_marks[query_name])/len(student_marks[query_name])\n",
    "print(\"{:0.2f}\".format(result))"
   ]
  },
  {
   "cell_type": "markdown",
   "id": "28837f57-2a88-49cf-b899-3bc7093030f6",
   "metadata": {},
   "source": [
    "### Lists"
   ]
  },
  {
   "cell_type": "code",
   "execution_count": 13,
   "id": "4a79b390-830f-4b1b-bb40-ffaf285e66f3",
   "metadata": {},
   "outputs": [
    {
     "name": "stdin",
     "output_type": "stream",
     "text": [
      " 12\n",
      " insert 0 5\n",
      " insert 1 10\n",
      " insert 0 6\n",
      " print\n",
      " remove 6\n",
      " append 9\n",
      " append 1\n",
      " sort\n",
      " print\n",
      " pop\n",
      " reverse\n",
      " print\n"
     ]
    },
    {
     "name": "stdout",
     "output_type": "stream",
     "text": [
      "[6, 5, 10]\n",
      "[1, 5, 9, 10]\n",
      "[9, 5, 1]\n"
     ]
    }
   ],
   "source": [
    "N = int(input())\n",
    "new_list = []\n",
    "commands = [input().strip().split() for i in range(N)]\n",
    "\n",
    "command_dict = {\n",
    "    \"insert\": new_list.insert,\n",
    "    \"print\": print,\n",
    "    \"remove\": new_list.remove,\n",
    "    \"append\": new_list.append,\n",
    "}\n",
    "\n",
    "for command in commands:\n",
    "    params = [int(i) for i in command[1:]]\n",
    "    if params:\n",
    "        command_dict[command[0]](*params)\n",
    "    elif command[0] == \"print\":\n",
    "        command_dict[command[0]](new_list)\n",
    "    elif command[0] == \"sort\":\n",
    "        new_list.sort()\n",
    "    elif command[0] == \"pop\":\n",
    "        new_list.pop()\n",
    "    elif command[0] == \"reverse\":\n",
    "        new_list.reverse()"
   ]
  },
  {
   "cell_type": "markdown",
   "id": "ac268157-2dcd-4e7a-948a-85dec8d3a516",
   "metadata": {},
   "source": [
    "### Tuples"
   ]
  },
  {
   "cell_type": "code",
   "execution_count": 14,
   "id": "bedfbe51-f99c-4437-84e5-0538289c0bd1",
   "metadata": {},
   "outputs": [
    {
     "name": "stdin",
     "output_type": "stream",
     "text": [
      " 2\n",
      " 1 2\n"
     ]
    },
    {
     "name": "stdout",
     "output_type": "stream",
     "text": [
      "-3550055125485641917\n"
     ]
    }
   ],
   "source": [
    "n = int(input())\n",
    "integer_list = map(int, input().split()) \n",
    "print(hash(tuple(integer_list)))"
   ]
  },
  {
   "cell_type": "markdown",
   "id": "018e1565-b8ff-47af-b2b8-0969224d9e78",
   "metadata": {},
   "source": [
    "# Strings\n",
    "### sWAP cASE"
   ]
  },
  {
   "cell_type": "code",
   "execution_count": 15,
   "id": "3ba3bb60-2952-402d-9753-34838e78fc1f",
   "metadata": {},
   "outputs": [
    {
     "name": "stdin",
     "output_type": "stream",
     "text": [
      " HackerRank.com presents \"Pythonist 2\".\n"
     ]
    },
    {
     "name": "stdout",
     "output_type": "stream",
     "text": [
      "hACKERrANK.COM PRESENTS \"pYTHONIST 2\".\n"
     ]
    }
   ],
   "source": [
    "def swap_case(s):\n",
    "    swappedLine = \"\"\n",
    "    for i in s:\n",
    "        if i.islower():\n",
    "            swappedLine += i.upper()\n",
    "        else:\n",
    "            swappedLine += i.lower()\n",
    "    return swappedLine\n",
    "\n",
    "s = input()\n",
    "result = swap_case(s)\n",
    "print(result)"
   ]
  },
  {
   "cell_type": "markdown",
   "id": "15ca18b7-8265-4a96-99e3-fc5eb5311824",
   "metadata": {},
   "source": [
    "### String Split and Join"
   ]
  },
  {
   "cell_type": "code",
   "execution_count": 17,
   "id": "820d7f1f-9f9f-4d27-9ef1-4a4865f2ef67",
   "metadata": {},
   "outputs": [
    {
     "name": "stdin",
     "output_type": "stream",
     "text": [
      " this is a string   \n"
     ]
    },
    {
     "name": "stdout",
     "output_type": "stream",
     "text": [
      "this-is-a-string\n"
     ]
    }
   ],
   "source": [
    "def split_and_join(line):\n",
    "    line = \"-\".join(line.split(\" \"))\n",
    "    return line\n",
    "\n",
    "line = input().strip()\n",
    "result = split_and_join(line)\n",
    "print(result)"
   ]
  },
  {
   "cell_type": "markdown",
   "id": "317fbffb-41ad-43bb-9b51-c21d8cccfda3",
   "metadata": {},
   "source": [
    "### What's Your Name?"
   ]
  },
  {
   "cell_type": "code",
   "execution_count": 18,
   "id": "ddb01976-365a-4ba4-9b75-078f9cf8e746",
   "metadata": {},
   "outputs": [
    {
     "name": "stdin",
     "output_type": "stream",
     "text": [
      " Ross\n",
      " Taylor\n"
     ]
    },
    {
     "name": "stdout",
     "output_type": "stream",
     "text": [
      "Hello Ross Taylor! You just delved into python.\n"
     ]
    }
   ],
   "source": [
    "def print_full_name(first, last):\n",
    "    print(\"Hello {} {}! You just delved into python.\".format(first, last))\n",
    "\n",
    "first_name = input()\n",
    "last_name = input()\n",
    "print_full_name(first_name, last_name)"
   ]
  },
  {
   "cell_type": "markdown",
   "id": "70161bf9-15de-4241-9e74-59c0a615f66d",
   "metadata": {},
   "source": [
    "### Mutations"
   ]
  },
  {
   "cell_type": "code",
   "execution_count": 19,
   "id": "fb0d17b8-fd62-4b2d-915c-e6a19ced58cf",
   "metadata": {},
   "outputs": [
    {
     "name": "stdin",
     "output_type": "stream",
     "text": [
      " abracadabra\n",
      " 5 k\n"
     ]
    },
    {
     "name": "stdout",
     "output_type": "stream",
     "text": [
      "abrackdabra\n"
     ]
    }
   ],
   "source": [
    "def mutate_string(string, position, character):\n",
    "    return string[:position]+character+string[position+1:]\n",
    "\n",
    "s = input()\n",
    "i, c = input().split()\n",
    "s_new = mutate_string(s, int(i), c)\n",
    "print(s_new)"
   ]
  },
  {
   "cell_type": "code",
   "execution_count": null,
   "id": "9d701986-f775-4b04-bdd0-b86d79f86313",
   "metadata": {},
   "outputs": [],
   "source": []
  }
 ],
 "metadata": {
  "kernelspec": {
   "display_name": "Python 3 (ipykernel)",
   "language": "python",
   "name": "python3"
  },
  "language_info": {
   "codemirror_mode": {
    "name": "ipython",
    "version": 3
   },
   "file_extension": ".py",
   "mimetype": "text/x-python",
   "name": "python",
   "nbconvert_exporter": "python",
   "pygments_lexer": "ipython3",
   "version": "3.12.6"
  }
 },
 "nbformat": 4,
 "nbformat_minor": 5
}
