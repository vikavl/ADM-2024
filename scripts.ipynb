{
 "cells": [
  {
   "cell_type": "markdown",
   "id": "5cef7af3-6a40-4f30-9d71-35349b8e90ed",
   "metadata": {},
   "source": [
    "# Introduction\n",
    "### Say \"Hello, World!\" With Python"
   ]
  },
  {
   "cell_type": "code",
   "execution_count": 1,
   "id": "e90a72c7-aef4-4371-b0f2-c2d19b45091f",
   "metadata": {},
   "outputs": [
    {
     "name": "stdout",
     "output_type": "stream",
     "text": [
      "Hello, World!\n"
     ]
    }
   ],
   "source": [
    "print(\"Hello, World!\")\n"
   ]
  },
  {
   "cell_type": "markdown",
   "id": "615999ad-2cdb-4fdb-9b0f-ad25fa03089a",
   "metadata": {},
   "source": [
    "### Python If-Else"
   ]
  },
  {
   "cell_type": "code",
   "execution_count": 2,
   "id": "e4fe5d31-18a9-4151-a620-c5e517d712c7",
   "metadata": {},
   "outputs": [
    {
     "name": "stdout",
     "output_type": "stream",
     "text": [
      " 5\n"
     ]
    },
    {
     "name": "stdout",
     "output_type": "stream",
     "text": [
      "Weird\n"
     ]
    }
   ],
   "source": [
    "n = int(input().strip())\n",
    "#odd (1, 3, 5...) - weird\n",
    "if n%2!=0:\n",
    "    print(\"Weird\")\n",
    "#even (2, 4, 6...)\n",
    "else:\n",
    "    if 2<=n<=5:\n",
    "        print(\"Not Weird\")\n",
    "    elif 6<=n<=20:\n",
    "        print(\"Weird\")\n",
    "    elif 20<=n:\n",
    "        print(\"Not Weird\")\n"
   ]
  },
  {
   "cell_type": "markdown",
   "id": "aef5fb0a-7329-4aa0-9329-fc38bc5e30f5",
   "metadata": {},
   "source": [
    "### Arithmetic Operators"
   ]
  },
  {
   "cell_type": "code",
   "execution_count": 3,
   "id": "de76d93e-5af0-44e6-94f0-248a5aef0cc2",
   "metadata": {},
   "outputs": [
    {
     "name": "stdout",
     "output_type": "stream",
     "text": [
      " 5\n",
      " 10\n"
     ]
    },
    {
     "name": "stdout",
     "output_type": "stream",
     "text": [
      "15\n",
      "-5\n",
      "50\n"
     ]
    }
   ],
   "source": [
    "a = int(input())\n",
    "b = int(input())\n",
    "print(a+b)\n",
    "print(a-b)\n",
    "print(a*b)\n"
   ]
  },
  {
   "cell_type": "markdown",
   "id": "eee28ddc-7d7f-49fe-8048-8684eb21a378",
   "metadata": {},
   "source": [
    "### Python: Division"
   ]
  },
  {
   "cell_type": "code",
   "execution_count": 4,
   "id": "335653da-68af-4bb8-9646-23cc6e68575f",
   "metadata": {},
   "outputs": [
    {
     "name": "stdout",
     "output_type": "stream",
     "text": [
      " 3\n",
      " 4\n"
     ]
    },
    {
     "name": "stdout",
     "output_type": "stream",
     "text": [
      "0\n",
      "0.75\n"
     ]
    }
   ],
   "source": [
    "a = int(input())\n",
    "b = int(input())\n",
    "print(a//b)\n",
    "print(a/b)\n"
   ]
  },
  {
   "cell_type": "markdown",
   "id": "732ba0c2-89d8-4081-a228-0bb99d8578c9",
   "metadata": {},
   "source": [
    "### Loops"
   ]
  },
  {
   "cell_type": "code",
   "execution_count": 5,
   "id": "c94c13ec-08ea-482b-a7d0-c95abe7c366a",
   "metadata": {},
   "outputs": [
    {
     "name": "stdout",
     "output_type": "stream",
     "text": [
      " 5\n"
     ]
    },
    {
     "name": "stdout",
     "output_type": "stream",
     "text": [
      "0\n",
      "1\n",
      "4\n",
      "9\n",
      "16\n"
     ]
    }
   ],
   "source": [
    "n = int(input())\n",
    "for i in range(n):\n",
    "    print(i**2)\n"
   ]
  },
  {
   "cell_type": "markdown",
   "id": "a567036b-db89-42b6-af16-55dcac98ab5d",
   "metadata": {},
   "source": [
    "### Write a function"
   ]
  },
  {
   "cell_type": "code",
   "execution_count": 7,
   "id": "3bab8936-41dc-4220-9ee1-9f987ff23cdb",
   "metadata": {},
   "outputs": [
    {
     "name": "stdout",
     "output_type": "stream",
     "text": [
      " 1990\n"
     ]
    },
    {
     "name": "stdout",
     "output_type": "stream",
     "text": [
      "False\n"
     ]
    }
   ],
   "source": [
    "def is_leap(year):\n",
    "    leap = False\n",
    "    if year % 4 == 0 and year % 100 != 0:\n",
    "        leap = True\n",
    "    elif year % 100 == 0 and year % 400 == 0:\n",
    "        leap = True\n",
    "    return leap\n",
    "\n",
    "year = int(input())\n",
    "print(is_leap(year))\n"
   ]
  },
  {
   "cell_type": "markdown",
   "id": "adf33001-b230-4fa8-b348-8cd129addbdc",
   "metadata": {},
   "source": [
    "### Print Function"
   ]
  },
  {
   "cell_type": "code",
   "execution_count": 8,
   "id": "614015b4-d6d0-4341-a7c3-28d7c8eb4431",
   "metadata": {},
   "outputs": [
    {
     "name": "stdout",
     "output_type": "stream",
     "text": [
      " 3\n"
     ]
    },
    {
     "name": "stdout",
     "output_type": "stream",
     "text": [
      "123"
     ]
    }
   ],
   "source": [
    "n = int(input())\n",
    "for i in range(1, n+1):\n",
    "    print(i, end='')\n"
   ]
  },
  {
   "cell_type": "markdown",
   "id": "2f86409e-e19c-4305-9a74-c952a70bbbfc",
   "metadata": {},
   "source": [
    "# Data types\n",
    "### List Comprehensions"
   ]
  },
  {
   "cell_type": "code",
   "execution_count": 9,
   "id": "af03891e-3dd7-47d5-bbc4-d18d0ce493f6",
   "metadata": {},
   "outputs": [
    {
     "name": "stdout",
     "output_type": "stream",
     "text": [
      " 1\n",
      " 1\n",
      " 2\n",
      " 3\n"
     ]
    },
    {
     "name": "stdout",
     "output_type": "stream",
     "text": [
      "[[0, 0, 0], [0, 0, 1], [0, 0, 2], [0, 1, 0], [0, 1, 1], [1, 0, 0], [1, 0, 1], [1, 1, 0], [1, 1, 2]]\n"
     ]
    }
   ],
   "source": [
    "x = int(input())\n",
    "y = int(input())\n",
    "z = int(input())\n",
    "n = int(input())\n",
    "result = []\n",
    "for i in range(x+1):\n",
    "    for j in range(y+1):\n",
    "        for k in range(z+1):\n",
    "            if (i+j+k) != n:\n",
    "                result.append([i, j, k])\n",
    "print(result)\n"
   ]
  },
  {
   "cell_type": "markdown",
   "id": "96589edd-ce61-46e0-9b6d-44251d23bba3",
   "metadata": {},
   "source": [
    "### Find the Runner-Up Score!"
   ]
  },
  {
   "cell_type": "code",
   "execution_count": 10,
   "id": "217dea55-ee7a-4584-8f66-84c1c25dff47",
   "metadata": {},
   "outputs": [
    {
     "name": "stdout",
     "output_type": "stream",
     "text": [
      " 5\n",
      " 2 3 6 6 5\n"
     ]
    },
    {
     "name": "stdout",
     "output_type": "stream",
     "text": [
      "5\n"
     ]
    }
   ],
   "source": [
    "n = int(input())\n",
    "arr = [int(i) for i in input().split()] \n",
    "arr = sorted(arr)\n",
    "maxEl = arr[-1]\n",
    "    \n",
    "runnerUp = arr[0]\n",
    "for i in arr:\n",
    "    if runnerUp <= i and i != maxEl:\n",
    "        runnerUp = i    \n",
    "print(runnerUp)\n"
   ]
  },
  {
   "cell_type": "markdown",
   "id": "9660def2-789b-44f9-a017-47d2b9bd5f5f",
   "metadata": {},
   "source": [
    "### Nested Lists"
   ]
  },
  {
   "cell_type": "code",
   "execution_count": 11,
   "id": "c1f00f8d-cc35-403c-b2f4-d5c5baabe6a6",
   "metadata": {},
   "outputs": [
    {
     "name": "stdout",
     "output_type": "stream",
     "text": [
      " 5\n",
      " Harry\n",
      " 37.21\n",
      " Berry\n",
      " 37.21\n",
      " Tina\n",
      " 37.2\n",
      " Akriti\n",
      " 41\n",
      " Harsh\n",
      " 39\n"
     ]
    },
    {
     "name": "stdout",
     "output_type": "stream",
     "text": [
      "Berry\n",
      "Harry\n"
     ]
    }
   ],
   "source": [
    "N = int(input())\n",
    "records = []\n",
    "for _ in range(N):\n",
    "    st_name = input().strip()\n",
    "    st_grade = float(input())\n",
    "    records.append([st_name, st_grade])\n",
    "\n",
    "grades = list(sorted([i[1] for i in records]))[::-1]\n",
    "lowest = grades[-1]\n",
    "while lowest in grades:\n",
    "    grades.remove(lowest)\n",
    "second_lowest = grades[-1]\n",
    "names = []\n",
    "for i in records:\n",
    "    if i[1] == second_lowest:\n",
    "        names.append(i[0])\n",
    "names = sorted(names)\n",
    "for name in names:\n",
    "    print(name)\n"
   ]
  },
  {
   "cell_type": "markdown",
   "id": "81c669f2-740b-4e46-ac89-a764d6687b10",
   "metadata": {},
   "source": [
    "### Finding the percentage"
   ]
  },
  {
   "cell_type": "code",
   "execution_count": 12,
   "id": "6e048b73-d616-4759-9a0f-461cb0620caa",
   "metadata": {},
   "outputs": [
    {
     "name": "stdout",
     "output_type": "stream",
     "text": [
      " 3\n",
      " Krishna 67 68 69\n",
      " Arjun 70 98 63\n",
      " Malika 52 56 60\n",
      " Malika\n"
     ]
    },
    {
     "name": "stdout",
     "output_type": "stream",
     "text": [
      "56.00\n"
     ]
    }
   ],
   "source": [
    "n = int(input())\n",
    "student_marks = {}\n",
    "for _ in range(n):\n",
    "    name, *line = input().split()\n",
    "    scores = list(map(float, line))\n",
    "    student_marks[name] = scores\n",
    "query_name = input()\n",
    "result = sum(student_marks[query_name])/len(student_marks[query_name])\n",
    "print(\"{:0.2f}\".format(result))\n"
   ]
  },
  {
   "cell_type": "markdown",
   "id": "28837f57-2a88-49cf-b899-3bc7093030f6",
   "metadata": {},
   "source": [
    "### Lists"
   ]
  },
  {
   "cell_type": "code",
   "execution_count": 13,
   "id": "4a79b390-830f-4b1b-bb40-ffaf285e66f3",
   "metadata": {},
   "outputs": [
    {
     "name": "stdout",
     "output_type": "stream",
     "text": [
      " 12\n",
      " insert 0 5\n",
      " insert 1 10\n",
      " insert 0 6\n",
      " print\n",
      " remove 6\n",
      " append 9\n",
      " append 1\n",
      " sort\n",
      " print\n",
      " pop\n",
      " reverse\n",
      " print\n"
     ]
    },
    {
     "name": "stdout",
     "output_type": "stream",
     "text": [
      "[6, 5, 10]\n",
      "[1, 5, 9, 10]\n",
      "[9, 5, 1]\n"
     ]
    }
   ],
   "source": [
    "N = int(input())\n",
    "new_list = []\n",
    "commands = [input().strip().split() for i in range(N)]\n",
    "\n",
    "command_dict = {\n",
    "    \"insert\": new_list.insert,\n",
    "    \"print\": print,\n",
    "    \"remove\": new_list.remove,\n",
    "    \"append\": new_list.append,\n",
    "}\n",
    "\n",
    "for command in commands:\n",
    "    params = [int(i) for i in command[1:]]\n",
    "    if params:\n",
    "        command_dict[command[0]](*params)\n",
    "    elif command[0] == \"print\":\n",
    "        command_dict[command[0]](new_list)\n",
    "    elif command[0] == \"sort\":\n",
    "        new_list.sort()\n",
    "    elif command[0] == \"pop\":\n",
    "        new_list.pop()\n",
    "    elif command[0] == \"reverse\":\n",
    "        new_list.reverse()\n"
   ]
  },
  {
   "cell_type": "markdown",
   "id": "ac268157-2dcd-4e7a-948a-85dec8d3a516",
   "metadata": {},
   "source": [
    "### Tuples"
   ]
  },
  {
   "cell_type": "code",
   "execution_count": 14,
   "id": "bedfbe51-f99c-4437-84e5-0538289c0bd1",
   "metadata": {},
   "outputs": [
    {
     "name": "stdout",
     "output_type": "stream",
     "text": [
      " 2\n",
      " 1 2\n"
     ]
    },
    {
     "name": "stdout",
     "output_type": "stream",
     "text": [
      "-3550055125485641917\n"
     ]
    }
   ],
   "source": [
    "n = int(input())\n",
    "integer_list = map(int, input().split()) \n",
    "print(hash(tuple(integer_list)))\n"
   ]
  },
  {
   "cell_type": "markdown",
   "id": "018e1565-b8ff-47af-b2b8-0969224d9e78",
   "metadata": {},
   "source": [
    "# Strings\n",
    "### sWAP cASE"
   ]
  },
  {
   "cell_type": "code",
   "execution_count": 15,
   "id": "3ba3bb60-2952-402d-9753-34838e78fc1f",
   "metadata": {},
   "outputs": [
    {
     "name": "stdout",
     "output_type": "stream",
     "text": [
      " HackerRank.com presents \"Pythonist 2\".\n"
     ]
    },
    {
     "name": "stdout",
     "output_type": "stream",
     "text": [
      "hACKERrANK.COM PRESENTS \"pYTHONIST 2\".\n"
     ]
    }
   ],
   "source": [
    "def swap_case(s):\n",
    "    swappedLine = \"\"\n",
    "    for i in s:\n",
    "        if i.islower():\n",
    "            swappedLine += i.upper()\n",
    "        else:\n",
    "            swappedLine += i.lower()\n",
    "    return swappedLine\n",
    "\n",
    "s = input()\n",
    "result = swap_case(s)\n",
    "print(result)\n"
   ]
  },
  {
   "cell_type": "markdown",
   "id": "15ca18b7-8265-4a96-99e3-fc5eb5311824",
   "metadata": {},
   "source": [
    "### String Split and Join"
   ]
  },
  {
   "cell_type": "code",
   "execution_count": 17,
   "id": "820d7f1f-9f9f-4d27-9ef1-4a4865f2ef67",
   "metadata": {},
   "outputs": [
    {
     "name": "stdout",
     "output_type": "stream",
     "text": [
      " this is a string   \n"
     ]
    },
    {
     "name": "stdout",
     "output_type": "stream",
     "text": [
      "this-is-a-string\n"
     ]
    }
   ],
   "source": [
    "def split_and_join(line):\n",
    "    line = \"-\".join(line.split(\" \"))\n",
    "    return line\n",
    "\n",
    "line = input().strip()\n",
    "result = split_and_join(line)\n",
    "print(result)\n"
   ]
  },
  {
   "cell_type": "markdown",
   "id": "317fbffb-41ad-43bb-9b51-c21d8cccfda3",
   "metadata": {},
   "source": [
    "### What's Your Name?"
   ]
  },
  {
   "cell_type": "code",
   "execution_count": 18,
   "id": "ddb01976-365a-4ba4-9b75-078f9cf8e746",
   "metadata": {},
   "outputs": [
    {
     "name": "stdout",
     "output_type": "stream",
     "text": [
      " Ross\n",
      " Taylor\n"
     ]
    },
    {
     "name": "stdout",
     "output_type": "stream",
     "text": [
      "Hello Ross Taylor! You just delved into python.\n"
     ]
    }
   ],
   "source": [
    "def print_full_name(first, last):\n",
    "    print(\"Hello {} {}! You just delved into python.\".format(first, last))\n",
    "\n",
    "first_name = input()\n",
    "last_name = input()\n",
    "print_full_name(first_name, last_name)\n"
   ]
  },
  {
   "cell_type": "markdown",
   "id": "70161bf9-15de-4241-9e74-59c0a615f66d",
   "metadata": {},
   "source": [
    "### Mutations"
   ]
  },
  {
   "cell_type": "code",
   "execution_count": 19,
   "id": "fb0d17b8-fd62-4b2d-915c-e6a19ced58cf",
   "metadata": {},
   "outputs": [
    {
     "name": "stdout",
     "output_type": "stream",
     "text": [
      " abracadabra\n",
      " 5 k\n"
     ]
    },
    {
     "name": "stdout",
     "output_type": "stream",
     "text": [
      "abrackdabra\n"
     ]
    }
   ],
   "source": [
    "def mutate_string(string, position, character):\n",
    "    return string[:position]+character+string[position+1:]\n",
    "\n",
    "s = input()\n",
    "i, c = input().split()\n",
    "s_new = mutate_string(s, int(i), c)\n",
    "print(s_new)\n"
   ]
  },
  {
   "cell_type": "markdown",
   "id": "33f45e23",
   "metadata": {},
   "source": [
    "### Find a string"
   ]
  },
  {
   "cell_type": "code",
   "execution_count": 1,
   "id": "e04e2da6",
   "metadata": {},
   "outputs": [
    {
     "name": "stdout",
     "output_type": "stream",
     "text": [
      "2\n"
     ]
    }
   ],
   "source": [
    "def counter(index):\n",
    "    if index != -1:\n",
    "        return 1\n",
    "    else: \n",
    "        return 0\n",
    "        \n",
    "def count_substring(string, sub_string):\n",
    "    num_sub = 0\n",
    "    index = string.find(sub_string) \n",
    "    num_sub += counter(index)\n",
    "    while index != -1:\n",
    "        index += 1\n",
    "        index = string.find(sub_string, index+1, len(string))\n",
    "        num_sub += counter(index)\n",
    "    return num_sub\n",
    "\n",
    "string = input().strip()\n",
    "sub_string = input().strip()\n",
    "count = count_substring(string, sub_string)\n",
    "print(count)\n"
   ]
  },
  {
   "cell_type": "markdown",
   "id": "0e410c22",
   "metadata": {},
   "source": [
    "### String Validators"
   ]
  },
  {
   "cell_type": "code",
   "execution_count": 2,
   "id": "f80291cb",
   "metadata": {},
   "outputs": [
    {
     "name": "stdout",
     "output_type": "stream",
     "text": [
      "True\n",
      "True\n",
      "True\n",
      "True\n",
      "True\n"
     ]
    }
   ],
   "source": [
    "s = input()\n",
    "print(any(i.isalnum() for i in s))\n",
    "print(any(i.isalpha() for i in s))\n",
    "print(any(i.isdigit() for i in s))\n",
    "print(any(i.islower() for i in s))\n",
    "print(any(i.isupper() for i in s))\n"
   ]
  },
  {
   "cell_type": "markdown",
   "id": "a46405a4",
   "metadata": {},
   "source": [
    "### Text Alignment"
   ]
  },
  {
   "cell_type": "code",
   "execution_count": 3,
   "id": "3000e5e4",
   "metadata": {},
   "outputs": [
    {
     "name": "stdout",
     "output_type": "stream",
     "text": [
      "    H    \n",
      "   HHH   \n",
      "  HHHHH  \n",
      " HHHHHHH \n",
      "HHHHHHHHH\n",
      "  HHHHH               HHHHH             \n",
      "  HHHHH               HHHHH             \n",
      "  HHHHH               HHHHH             \n",
      "  HHHHH               HHHHH             \n",
      "  HHHHH               HHHHH             \n",
      "  HHHHH               HHHHH             \n",
      "  HHHHHHHHHHHHHHHHHHHHHHHHH   \n",
      "  HHHHHHHHHHHHHHHHHHHHHHHHH   \n",
      "  HHHHHHHHHHHHHHHHHHHHHHHHH   \n",
      "  HHHHH               HHHHH             \n",
      "  HHHHH               HHHHH             \n",
      "  HHHHH               HHHHH             \n",
      "  HHHHH               HHHHH             \n",
      "  HHHHH               HHHHH             \n",
      "  HHHHH               HHHHH             \n",
      "                    HHHHHHHHH \n",
      "                     HHHHHHH  \n",
      "                      HHHHH   \n",
      "                       HHH    \n",
      "                        H     \n"
     ]
    }
   ],
   "source": [
    "thickness = int(input()) #This must be an odd number\n",
    "c = 'H'\n",
    "\n",
    "#Top Cone\n",
    "for i in range(thickness):\n",
    "    print((c*i).rjust(thickness-1)+c+(c*i).ljust(thickness-1))\n",
    "\n",
    "#Top Pillars\n",
    "for i in range(thickness+1):\n",
    "    print((c*thickness).center(thickness*2)+(c*thickness).center(thickness*6))\n",
    "\n",
    "#Middle Belt\n",
    "for i in range((thickness+1)//2):\n",
    "    print((c*thickness*5).center(thickness*6))    \n",
    "\n",
    "#Bottom Pillars\n",
    "for i in range(thickness+1):\n",
    "    print((c*thickness).center(thickness*2)+(c*thickness).center(thickness*6))    \n",
    "\n",
    "#Bottom Cone\n",
    "for i in range(thickness):\n",
    "    print(((c*(thickness-i-1)).rjust(thickness)+c+(c*(thickness-i-1)).ljust(thickness)).rjust(thickness*6))\n"
   ]
  },
  {
   "cell_type": "markdown",
   "id": "3a0d7ae9",
   "metadata": {},
   "source": [
    "### Text Wrap"
   ]
  },
  {
   "cell_type": "code",
   "execution_count": 4,
   "id": "29d11745",
   "metadata": {},
   "outputs": [
    {
     "name": "stdout",
     "output_type": "stream",
     "text": [
      "ABCD\n",
      "EFGH\n",
      "IJKL\n",
      "IMNO\n",
      "QRST\n",
      "UVWX\n",
      "YZ\n"
     ]
    }
   ],
   "source": [
    "import textwrap\n",
    "\n",
    "def wrap(string, max_width):\n",
    "    wrappedText = textwrap.wrap(string, width=max_width)\n",
    "    return \"\\n\".join(wrappedText)\n",
    "\n",
    "string, max_width = input(), int(input())\n",
    "result = wrap(string, max_width)\n",
    "print(result)\n"
   ]
  },
  {
   "cell_type": "markdown",
   "id": "6cda71ff",
   "metadata": {},
   "source": [
    "### Designer Door Mat"
   ]
  },
  {
   "cell_type": "code",
   "execution_count": 5,
   "id": "64872563",
   "metadata": {},
   "outputs": [
    {
     "name": "stdout",
     "output_type": "stream",
     "text": [
      "------------.|.------------\n",
      "---------.|..|..|.---------\n",
      "------.|..|..|..|..|.------\n",
      "---.|..|..|..|..|..|..|.---\n",
      "----------WELCOME----------\n",
      "---.|..|..|..|..|..|..|.---\n",
      "------.|..|..|..|..|.------\n",
      "---------.|..|..|.---------\n",
      "------------.|.------------\n"
     ]
    }
   ],
   "source": [
    "N, M = [int(i) for i in input().strip().split(\" \")]\n",
    "line_dots_pattern = \".|.\"\n",
    "times = 1\n",
    "center_line_num = N // 2\n",
    "for i in range(N):\n",
    "    if i < center_line_num:\n",
    "        print((line_dots_pattern*times).center(M,'-'))\n",
    "        times += 2\n",
    "    elif i == center_line_num:\n",
    "        print(\"WELCOME\".center(M,'-'))\n",
    "        times -= 2\n",
    "    else:\n",
    "        print((line_dots_pattern*times).center(M,'-'))\n",
    "        times -= 2\n"
   ]
  },
  {
   "cell_type": "markdown",
   "id": "f76ad1b3",
   "metadata": {},
   "source": [
    "### String Formatting"
   ]
  },
  {
   "cell_type": "code",
   "execution_count": 8,
   "id": "657b1950",
   "metadata": {},
   "outputs": [
    {
     "name": "stdout",
     "output_type": "stream",
     "text": [
      "    1     1     1     1\n",
      "    2     2     2    10\n",
      "    3     3     3    11\n",
      "    4     4     4   100\n",
      "    5     5     5   101\n",
      "    6     6     6   110\n",
      "    7     7     7   111\n",
      "    8    10     8  1000\n",
      "    9    11     9  1001\n",
      "   10    12     A  1010\n",
      "   11    13     B  1011\n",
      "   12    14     C  1100\n",
      "   13    15     D  1101\n",
      "   14    16     E  1110\n",
      "   15    17     F  1111\n",
      "   16    20    10 10000\n",
      "   17    21    11 10001\n"
     ]
    }
   ],
   "source": [
    "def print_formatted(number):\n",
    "    length = len(str(bin(number))) - 2\n",
    "    for i in range(1, number+1):\n",
    "        print(\n",
    "            \"{0:d}\".format(i).rjust(length, ' '),\n",
    "            \"{0:o}\".format(i).rjust(length, ' '),\n",
    "            \"{0:X}\".format(i).rjust(length, ' '),\n",
    "            \"{0:b}\".format(i).rjust(length, ' ')\n",
    "        )\n",
    "n = int(input())\n",
    "print_formatted(n)\n"
   ]
  },
  {
   "cell_type": "markdown",
   "id": "daefcf29",
   "metadata": {},
   "source": [
    "### Alphabet Rangoli"
   ]
  },
  {
   "cell_type": "code",
   "execution_count": 9,
   "id": "11b7472c",
   "metadata": {},
   "outputs": [
    {
     "name": "stdout",
     "output_type": "stream",
     "text": [
      "--------e--------\n",
      "------e-d-e------\n",
      "----e-d-c-d-e----\n",
      "--e-d-c-b-c-d-e--\n",
      "e-d-c-b-a-b-c-d-e\n",
      "--e-d-c-b-c-d-e--\n",
      "----e-d-c-d-e----\n",
      "------e-d-e------\n",
      "--------e--------\n"
     ]
    }
   ],
   "source": [
    "def print_rangoli(size):\n",
    "    temp = [chr(i) for i in range(ord('a'), ord('a')+size)]\n",
    "    temp = temp[1:][::-1] + temp\n",
    "    center = \"-\".join(temp)\n",
    "    width = len(center)\n",
    "    bottom = []\n",
    "    for i in range(size - 1):\n",
    "        bottom.append(\"-\".join(temp[:len(temp)//2-i]+temp[len(temp)//2 + 2 + i:]).center(width, \"-\"))\n",
    "    result = [*reversed(bottom), center, *bottom]\n",
    "    for i in result:\n",
    "        print(i)\n",
    "\n",
    "n = int(input())\n",
    "print_rangoli(n)\n"
   ]
  },
  {
   "cell_type": "markdown",
   "id": "6e8efdd6",
   "metadata": {},
   "source": [
    "### Capitalize!"
   ]
  },
  {
   "cell_type": "code",
   "execution_count": 11,
   "id": "b6be2cac",
   "metadata": {},
   "outputs": [
    {
     "data": {
      "text/plain": [
       "'Chris Alan'"
      ]
     },
     "execution_count": 11,
     "metadata": {},
     "output_type": "execute_result"
    }
   ],
   "source": [
    "import textwrap\n",
    "\n",
    "# Complete the solve function below.\n",
    "def solve(s):\n",
    "    return \" \".join([i.capitalize() for i in s.split(\" \")])\n",
    "\n",
    "s = input()\n",
    "solve(s)\n"
   ]
  },
  {
   "cell_type": "markdown",
   "id": "cb9d914f",
   "metadata": {},
   "source": [
    "### The Minion Game"
   ]
  },
  {
   "cell_type": "code",
   "execution_count": 12,
   "id": "c71b2d2a",
   "metadata": {},
   "outputs": [
    {
     "name": "stdout",
     "output_type": "stream",
     "text": [
      "Stuart 12\n"
     ]
    }
   ],
   "source": [
    "def minion_game(string):\n",
    "    kevin = 0\n",
    "    l = len(string)\n",
    "    for i in range(l):\n",
    "        if string[i] in 'AEIOU':\n",
    "            kevin += l - i\n",
    "    \n",
    "    stuart = int(l * (l+1) / 2) - kevin\n",
    "    \n",
    "    if stuart > kevin: \n",
    "        print('Stuart', stuart)\n",
    "        return\n",
    "    \n",
    "    if kevin > stuart:\n",
    "        print('Kevin', kevin)\n",
    "        return\n",
    "\n",
    "    print('Draw')\n",
    "\n",
    "s = input()\n",
    "minion_game(s)\n"
   ]
  },
  {
   "cell_type": "markdown",
   "id": "d834b9b0",
   "metadata": {},
   "source": [
    "### Merge the Tools!"
   ]
  },
  {
   "cell_type": "code",
   "execution_count": 13,
   "id": "efdad650",
   "metadata": {},
   "outputs": [
    {
     "name": "stdout",
     "output_type": "stream",
     "text": [
      "AB\n",
      "CA\n",
      "AD\n",
      " \n"
     ]
    }
   ],
   "source": [
    "def merge_the_tools(string, k):\n",
    "    counter = 0\n",
    "    subsets = []\n",
    "    temp = []\n",
    "    for i in string:\n",
    "        counter += 1\n",
    "        if i not in temp:\n",
    "            temp.append(i)\n",
    "        if counter == k:\n",
    "            subsets.append(\"\".join(temp))\n",
    "            temp = []\n",
    "            counter = 0\n",
    "    for s in subsets:\n",
    "        print(s)\n",
    "\n",
    "string, k = input(), int(input())\n",
    "merge_the_tools(string, k)\n"
   ]
  },
  {
   "cell_type": "markdown",
   "id": "98bc3a6b",
   "metadata": {},
   "source": [
    "# Sets\n",
    "### Introduction to Sets"
   ]
  },
  {
   "cell_type": "code",
   "execution_count": 14,
   "id": "ec586987",
   "metadata": {},
   "outputs": [
    {
     "name": "stdout",
     "output_type": "stream",
     "text": [
      "169.375\n"
     ]
    }
   ],
   "source": [
    "def average(array):\n",
    "    array = set(array)\n",
    "    return sum(array)/len(array)\n",
    "\n",
    "n = int(input())\n",
    "arr = list(map(int, input().split()))\n",
    "result = average(arr)\n",
    "print(result)\n"
   ]
  },
  {
   "cell_type": "markdown",
   "id": "37503cc5",
   "metadata": {},
   "source": [
    "### No Idea!"
   ]
  },
  {
   "cell_type": "code",
   "execution_count": 15,
   "id": "8e356828",
   "metadata": {},
   "outputs": [
    {
     "name": "stdout",
     "output_type": "stream",
     "text": [
      "1\n"
     ]
    }
   ],
   "source": [
    "n, m = [int(i) for i in input().strip().split(\" \")]\n",
    "arr = [int(i) for i in input().strip().split(\" \")]\n",
    "A = set([int(i) for i in input().strip().split(\" \")])\n",
    "B = set([int(i) for i in input().strip().split(\" \")])\n",
    "\n",
    "happiness = 0\n",
    "for i in arr:\n",
    "    if i in A:\n",
    "        happiness += 1\n",
    "    elif i in B:\n",
    "        happiness -= 1\n",
    "\n",
    "print(happiness)\n"
   ]
  },
  {
   "cell_type": "markdown",
   "id": "d1fadd5c",
   "metadata": {},
   "source": [
    "### Symmetric Difference"
   ]
  },
  {
   "cell_type": "code",
   "execution_count": 16,
   "id": "f0c8c0af",
   "metadata": {},
   "outputs": [
    {
     "name": "stdout",
     "output_type": "stream",
     "text": [
      "5\n",
      "9\n",
      "11\n",
      "12\n"
     ]
    }
   ],
   "source": [
    "m = int(input())\n",
    "m_set = {int(i) for i in input().split(\" \")}\n",
    "n = int(input())\n",
    "n_set = {int(i) for i in input().split(\" \")}\n",
    "\n",
    "for i in sorted(m_set.symmetric_difference(n_set)):\n",
    "    print(i)\n"
   ]
  },
  {
   "cell_type": "markdown",
   "id": "58ccffe3",
   "metadata": {},
   "source": [
    "### Set .add()"
   ]
  },
  {
   "cell_type": "code",
   "execution_count": 17,
   "id": "d9ecf60f",
   "metadata": {},
   "outputs": [
    {
     "name": "stdout",
     "output_type": "stream",
     "text": [
      "5\n"
     ]
    }
   ],
   "source": [
    "n = int(input())\n",
    "stamps = set([input() for i in range(n)])\n",
    "print(len(stamps))\n"
   ]
  },
  {
   "cell_type": "markdown",
   "id": "b3f81187",
   "metadata": {},
   "source": [
    "### Set .discard(), .remove() & .pop()"
   ]
  },
  {
   "cell_type": "code",
   "execution_count": 21,
   "id": "11b3eba0",
   "metadata": {},
   "outputs": [
    {
     "name": "stdout",
     "output_type": "stream",
     "text": [
      "12\n"
     ]
    }
   ],
   "source": [
    "n = int(input())\n",
    "s = set(map(int, input().split()))\n",
    "num_commands = int(input())\n",
    "\n",
    "commands = {\n",
    "    \"remove\": s.remove,\n",
    "    \"discard\": s.discard,\n",
    "    \"pop\": s.pop\n",
    "}\n",
    "\n",
    "for _ in range(num_commands):\n",
    "    command = [i for i in input().strip().split(\" \")]\n",
    "    args = command[1:]\n",
    "    if args:\n",
    "        commands[command[0]](*[int(i) for i in args])\n",
    "    else:\n",
    "        commands[command[0]]()\n",
    "\n",
    "print(sum(s))\n"
   ]
  },
  {
   "cell_type": "markdown",
   "id": "91d3b19b",
   "metadata": {},
   "source": [
    "### Set .union() Operation"
   ]
  },
  {
   "cell_type": "code",
   "execution_count": 22,
   "id": "642b91af",
   "metadata": {},
   "outputs": [
    {
     "name": "stdout",
     "output_type": "stream",
     "text": [
      "13\n"
     ]
    }
   ],
   "source": [
    "n = int(input()) \n",
    "n_set = set([int(i) for i in input().strip().split(\" \")])\n",
    "b = int(input()) \n",
    "b_set = set([int(i) for i in input().strip().split(\" \")])\n",
    "\n",
    "print(len(n_set.union(b_set)))\n"
   ]
  },
  {
   "cell_type": "markdown",
   "id": "f3e9122d",
   "metadata": {},
   "source": [
    "### Set .intersection() Operation"
   ]
  },
  {
   "cell_type": "code",
   "execution_count": 24,
   "id": "37a04d43",
   "metadata": {},
   "outputs": [
    {
     "name": "stdout",
     "output_type": "stream",
     "text": [
      "5\n"
     ]
    }
   ],
   "source": [
    "n = int(input()) \n",
    "n_set = set([int(i) for i in input().strip().split(\" \")])\n",
    "b = int(input()) \n",
    "b_set = set([int(i) for i in input().strip().split(\" \")])\n",
    "\n",
    "print(len(n_set.intersection(b_set)))\n"
   ]
  },
  {
   "cell_type": "markdown",
   "id": "50f84cea",
   "metadata": {},
   "source": [
    "### Set .difference() Operation"
   ]
  },
  {
   "cell_type": "code",
   "execution_count": 25,
   "id": "5a4f1e8c",
   "metadata": {},
   "outputs": [
    {
     "name": "stdout",
     "output_type": "stream",
     "text": [
      "4\n"
     ]
    }
   ],
   "source": [
    "n = int(input()) \n",
    "n_set = set([int(i) for i in input().strip().split(\" \")])\n",
    "b = int(input()) \n",
    "b_set = set([int(i) for i in input().strip().split(\" \")])\n",
    "\n",
    "print(len(n_set.difference(b_set)))\n"
   ]
  },
  {
   "cell_type": "markdown",
   "id": "55259df9",
   "metadata": {},
   "source": [
    "### Set .symmetric_difference() Operation"
   ]
  },
  {
   "cell_type": "code",
   "execution_count": 26,
   "id": "b693e577",
   "metadata": {},
   "outputs": [
    {
     "name": "stdout",
     "output_type": "stream",
     "text": [
      "8\n"
     ]
    }
   ],
   "source": [
    "n = int(input()) \n",
    "n_set = set([int(i) for i in input().strip().split(\" \")])\n",
    "b = int(input()) \n",
    "b_set = set([int(i) for i in input().strip().split(\" \")])\n",
    "\n",
    "print(len(n_set.symmetric_difference(b_set)))\n"
   ]
  },
  {
   "cell_type": "markdown",
   "id": "a7763e83",
   "metadata": {},
   "source": [
    "### Set Mutations"
   ]
  },
  {
   "cell_type": "code",
   "execution_count": 27,
   "id": "053a6f33",
   "metadata": {},
   "outputs": [
    {
     "name": "stdout",
     "output_type": "stream",
     "text": [
      "38\n"
     ]
    }
   ],
   "source": [
    "len_A = int(input())\n",
    "A = set([int(i) for i in input().strip().split()])\n",
    "\n",
    "N = int(input())\n",
    "for i in range(N):\n",
    "    current_command = [k for k in input().strip().split(\" \")]\n",
    "    otherSet = set([int(j) for j in input().strip().split(\" \")])\n",
    "    if current_command[0] == \"intersection_update\": A.intersection_update(otherSet)\n",
    "    if current_command[0] == \"update\": A.update(otherSet)\n",
    "    if current_command[0] == \"symmetric_difference_update\": A.symmetric_difference_update(otherSet)\n",
    "    if current_command[0] == \"difference_update\": A.difference_update(otherSet)\n",
    "\n",
    "print(sum(A))\n"
   ]
  },
  {
   "cell_type": "markdown",
   "id": "c39a7682",
   "metadata": {},
   "source": [
    "### The Captain's Room"
   ]
  },
  {
   "cell_type": "code",
   "execution_count": 28,
   "id": "fc2a72a6",
   "metadata": {},
   "outputs": [
    {
     "name": "stdout",
     "output_type": "stream",
     "text": [
      "8\n"
     ]
    }
   ],
   "source": [
    "K = int(input())\n",
    "rooms = [int(i) for i in input().strip().split(\" \")]\n",
    "groups = {}\n",
    "#print(len(rooms)//K)\n",
    "for room in rooms:\n",
    "    if room not in groups:\n",
    "        groups[room] = 1\n",
    "    else:\n",
    "        groups[room] += 1\n",
    "for k, v in groups.items():\n",
    "    if v == 1:\n",
    "        print(k)\n"
   ]
  },
  {
   "cell_type": "markdown",
   "id": "38204fa7",
   "metadata": {},
   "source": [
    "### Check Subset"
   ]
  },
  {
   "cell_type": "code",
   "execution_count": 29,
   "id": "30a3c434",
   "metadata": {},
   "outputs": [
    {
     "name": "stdout",
     "output_type": "stream",
     "text": [
      "True\n",
      "False\n",
      "False\n"
     ]
    }
   ],
   "source": [
    "T = int(input())\n",
    "for i in range(T):\n",
    "    len_A = int(input())\n",
    "    A = set([int(j) for j in input().strip().split(\" \")])\n",
    "    len_B = int(input())\n",
    "    B = set([int(j) for j in input().strip().split(\" \")])\n",
    "    print(A.issubset(B))\n"
   ]
  },
  {
   "cell_type": "markdown",
   "id": "0b97ec81",
   "metadata": {},
   "source": [
    "### Check Strict Superset"
   ]
  },
  {
   "cell_type": "code",
   "execution_count": 30,
   "id": "c75126e0",
   "metadata": {},
   "outputs": [
    {
     "name": "stdout",
     "output_type": "stream",
     "text": [
      "False\n"
     ]
    }
   ],
   "source": [
    "A = set([int(i) for i in input().strip().split(\" \")])\n",
    "n = int(input())\n",
    "otherSets = []\n",
    "for i in range(n):\n",
    "    otherSets.append([int(i) for i in input().strip().split(\" \")])\n",
    "\n",
    "cheks = []\n",
    "for i in otherSets:\n",
    "    if A.issuperset(set(i)):\n",
    "        cheks.append(True)\n",
    "    else:\n",
    "        cheks.append(False)\n",
    "\n",
    "print(sum(cheks)==len(cheks))\n"
   ]
  },
  {
   "cell_type": "markdown",
   "id": "bf5d40c3",
   "metadata": {},
   "source": [
    "# Collections\n",
    "### collections.Counter()"
   ]
  },
  {
   "cell_type": "code",
   "execution_count": 1,
   "id": "2070e876",
   "metadata": {},
   "outputs": [
    {
     "name": "stdout",
     "output_type": "stream",
     "text": [
      "200\n"
     ]
    }
   ],
   "source": [
    "from collections import Counter\n",
    "X = int(input())\n",
    "stats = Counter(input().strip().split(\" \"))\n",
    "N = int(input())\n",
    "summ = 0\n",
    "for _ in range(N):\n",
    "    size, x = input().strip().split(\" \")\n",
    "    if stats[size] > 0:\n",
    "        summ += int(x)\n",
    "        stats[size] -= 1\n",
    "print(summ)\n"
   ]
  },
  {
   "cell_type": "markdown",
   "id": "674cbd3d",
   "metadata": {},
   "source": [
    "### DefaultDict Tutorial"
   ]
  },
  {
   "cell_type": "code",
   "execution_count": 3,
   "id": "dfa713c0",
   "metadata": {},
   "outputs": [
    {
     "name": "stdout",
     "output_type": "stream",
     "text": [
      "1 2 4\n",
      "3 5\n"
     ]
    }
   ],
   "source": [
    "n, m = [int(i) for i in input().strip().split(\" \")]\n",
    "letters = {\n",
    "    \"A\": [],\n",
    "    \"B\": []\n",
    "}\n",
    "for i in range(n):\n",
    "    letters[\"A\"].append(input().strip())\n",
    "\n",
    "for i in range(m):\n",
    "    letters[\"B\"].append(input().strip())\n",
    "\n",
    "for letter in letters[\"B\"]:\n",
    "    positions = []\n",
    "    for pos in range(len(letters[\"A\"])):\n",
    "        if letter == letters[\"A\"][pos]:\n",
    "            positions.append(pos + 1)\n",
    "    if positions:\n",
    "        print(\" \".join([str(i) for i in positions]))\n",
    "    else:\n",
    "        print(-1)\n"
   ]
  },
  {
   "cell_type": "markdown",
   "id": "d6cf4ec0",
   "metadata": {},
   "source": [
    "### Collections.namedtuple()"
   ]
  },
  {
   "cell_type": "code",
   "execution_count": 4,
   "id": "8a1ac2c5",
   "metadata": {},
   "outputs": [
    {
     "name": "stdout",
     "output_type": "stream",
     "text": [
      "78.0\n"
     ]
    }
   ],
   "source": [
    "from collections import namedtuple\n",
    "\n",
    "N = int(input())\n",
    "Student = namedtuple(\"Student\", [i for i in input().split()])\n",
    "summ = 0\n",
    "for i in range(N):\n",
    "    summ += int(Student(*[j for j in input().split()]).MARKS)\n",
    "print(summ/N)\n"
   ]
  },
  {
   "cell_type": "markdown",
   "id": "4e73771f",
   "metadata": {},
   "source": [
    "### Collections.OrderedDict()"
   ]
  },
  {
   "cell_type": "code",
   "execution_count": 5,
   "id": "3e1e0c7e",
   "metadata": {},
   "outputs": [
    {
     "name": "stdout",
     "output_type": "stream",
     "text": [
      "BANANA FRIES 12\n",
      "POTATO CHIPS 60\n",
      "APPLE JUICE 20\n",
      "CANDY 20\n"
     ]
    }
   ],
   "source": [
    "from collections import OrderedDict\n",
    "\n",
    "N = int(input())\n",
    "ordered_dictionary = OrderedDict()\n",
    "for _ in range(N):\n",
    "    item = input().strip().split(\" \")\n",
    "    name = \" \".join(item[:-1])\n",
    "    price = int(item[-1])\n",
    "    if name in ordered_dictionary:\n",
    "        ordered_dictionary[name] += price\n",
    "    else:\n",
    "        ordered_dictionary[name] = price\n",
    "\n",
    "for key, value in ordered_dictionary.items():\n",
    "    print(key, value)\n"
   ]
  },
  {
   "cell_type": "markdown",
   "id": "bc56de1d",
   "metadata": {},
   "source": [
    "### Word Order"
   ]
  },
  {
   "cell_type": "code",
   "execution_count": 6,
   "id": "a9b9682e",
   "metadata": {},
   "outputs": [
    {
     "name": "stdout",
     "output_type": "stream",
     "text": [
      "3\n",
      "2 1 1 "
     ]
    }
   ],
   "source": [
    "n = int(input())\n",
    "d = {}\n",
    "for _ in range(n):\n",
    "    word = input().strip()\n",
    "    if word in d:\n",
    "        d[word] += 1\n",
    "    else:\n",
    "        d[word] = 1\n",
    "        \n",
    "print(len(set(d)))\n",
    "for value in d.values():\n",
    "    print(value, end=\" \")\n"
   ]
  },
  {
   "cell_type": "markdown",
   "id": "03ff8e55",
   "metadata": {},
   "source": [
    "### Collections.deque()"
   ]
  },
  {
   "cell_type": "code",
   "execution_count": 7,
   "id": "d5d89640",
   "metadata": {},
   "outputs": [
    {
     "name": "stdout",
     "output_type": "stream",
     "text": [
      "1 2\n"
     ]
    }
   ],
   "source": [
    "from collections import deque\n",
    "\n",
    "d = deque()\n",
    "commands = {\n",
    "    \"append\": d.append,\n",
    "    \"appendleft\": d.appendleft,\n",
    "    \"clear\": d.clear,\n",
    "    \"extend\": d.extend,\n",
    "    \"extendleft\": d.extendleft,\n",
    "    \"count\": d.count,\n",
    "    \"pop\": d.pop,\n",
    "    \"popleft\": d.popleft,\n",
    "    \"remove\": d.remove,\n",
    "    \"reverse\": d.reverse,\n",
    "    \"rotate\": d.rotate\n",
    "}\n",
    "\n",
    "N = int(input())\n",
    "for _ in range(N):\n",
    "    command = input().strip().split(\" \")\n",
    "    arg = command[1:]\n",
    "    if arg:\n",
    "        commands[command[0]](*arg)\n",
    "    else:\n",
    "        commands[command[0]]()\n",
    "\n",
    "print(*d)\n"
   ]
  },
  {
   "cell_type": "markdown",
   "id": "840fa7e5",
   "metadata": {},
   "source": [
    "### Company Logo"
   ]
  },
  {
   "cell_type": "code",
   "execution_count": 8,
   "id": "3efc51d0",
   "metadata": {},
   "outputs": [
    {
     "name": "stdout",
     "output_type": "stream",
     "text": [
      "b 3\n",
      "a 2\n",
      "c 2\n"
     ]
    }
   ],
   "source": [
    "from collections import Counter\n",
    "\n",
    "s = sorted(input())\n",
    "sets = Counter(s)\n",
    "for key, value in sets.most_common(3):\n",
    "    print(key, value)\n"
   ]
  },
  {
   "cell_type": "markdown",
   "id": "b5a0755f",
   "metadata": {},
   "source": [
    "### Piling Up!"
   ]
  },
  {
   "cell_type": "code",
   "execution_count": 9,
   "id": "d7c95ce6",
   "metadata": {},
   "outputs": [
    {
     "name": "stdout",
     "output_type": "stream",
     "text": [
      "Yes\n",
      "No\n"
     ]
    }
   ],
   "source": [
    "from collections import deque\n",
    "\n",
    "T = int(input())\n",
    "for i in range(T):\n",
    "    n  = int(input())\n",
    "    blocks = deque([int(a) for a in input().strip().split(\" \")])\n",
    "    result = []\n",
    "    while blocks:\n",
    "        if blocks[-1] >= blocks[0]:\n",
    "            result.append(blocks.pop())\n",
    "        else:\n",
    "            result.append(blocks.popleft())\n",
    "    if result == sorted(result, reverse=True):\n",
    "        print('Yes')\n",
    "    else:\n",
    "        print('No')\n"
   ]
  },
  {
   "cell_type": "markdown",
   "id": "8b697a45",
   "metadata": {},
   "source": [
    "# Date and Time\n",
    "### Calendar Module"
   ]
  },
  {
   "cell_type": "code",
   "execution_count": 10,
   "id": "5032f3a3",
   "metadata": {},
   "outputs": [
    {
     "name": "stdout",
     "output_type": "stream",
     "text": [
      "WEDNESDAY\n"
     ]
    }
   ],
   "source": [
    "import calendar\n",
    "\n",
    "month, day, year = [int(i) for i in input().strip().split()]\n",
    "print(str(calendar.day_name[calendar.weekday(year, month, day)]).upper())\n"
   ]
  },
  {
   "cell_type": "markdown",
   "id": "380ef0bf",
   "metadata": {},
   "source": [
    "### Time Delta"
   ]
  },
  {
   "cell_type": "code",
   "execution_count": 11,
   "id": "6dc2cf94",
   "metadata": {},
   "outputs": [
    {
     "name": "stdout",
     "output_type": "stream",
     "text": [
      "25200\n",
      "88200\n"
     ]
    }
   ],
   "source": [
    "from datetime import datetime\n",
    "\n",
    "# Complete the time_delta function below.\n",
    "def time_delta(t1, t2):\n",
    "    fmt = \"%a %d %b %Y %H:%M:%S %z\"\n",
    "    t1_date = datetime.strptime(t1, fmt)\n",
    "    t2_date = datetime.strptime(t2, fmt)\n",
    "    \n",
    "    if (t1_date.year + t2_date.year) <= 6000:\n",
    "        return str(abs(int((t1_date - t2_date).total_seconds())))\n",
    "\n",
    "t = int(input())\n",
    "for t_itr in range(t):\n",
    "    t1 = input()\n",
    "    t2 = input()\n",
    "    delta = time_delta(t1, t2)\n",
    "    print(delta)\n"
   ]
  },
  {
   "cell_type": "markdown",
   "id": "48732c90",
   "metadata": {},
   "source": [
    "# Exceptions\n",
    "### Exceptions"
   ]
  },
  {
   "cell_type": "code",
   "execution_count": 12,
   "id": "9a5af66e",
   "metadata": {},
   "outputs": [
    {
     "name": "stdout",
     "output_type": "stream",
     "text": [
      "Error Code: integer division or modulo by zero\n",
      "Error Code: invalid literal for int() with base 10: '$'\n",
      "3\n"
     ]
    }
   ],
   "source": [
    "T = int(input())\n",
    "for _ in range(T):\n",
    "    try:\n",
    "        a, b = [int(i) for i in input().strip().split(\" \")]\n",
    "        print(a//b)\n",
    "    except ZeroDivisionError:\n",
    "        print(\"Error Code: integer division or modulo by zero\")\n",
    "    except ValueError as e:\n",
    "        print(\"Error Code:\", e)\n"
   ]
  },
  {
   "cell_type": "markdown",
   "id": "90dfaac2",
   "metadata": {},
   "source": [
    "# Built-ins\n",
    "### Zipped!"
   ]
  },
  {
   "cell_type": "code",
   "execution_count": 13,
   "id": "2e4678c0",
   "metadata": {},
   "outputs": [
    {
     "name": "stdout",
     "output_type": "stream",
     "text": [
      "90.0\n",
      "91.0\n",
      "82.0\n",
      "90.0\n",
      "85.5\n"
     ]
    }
   ],
   "source": [
    "N, X = [int(i) for i in input().strip().split(\" \")]\n",
    "result = []\n",
    "for _ in range(X):\n",
    "    result.append([float(i) for i in input().strip().split(\" \")])\n",
    "\n",
    "for i in zip(*result):\n",
    "    print(sum(i)/X)\n"
   ]
  },
  {
   "cell_type": "markdown",
   "id": "5e0e50f3",
   "metadata": {},
   "source": [
    "### Athlete Sort"
   ]
  },
  {
   "cell_type": "code",
   "execution_count": 14,
   "id": "c89297fc",
   "metadata": {},
   "outputs": [
    {
     "name": "stdout",
     "output_type": "stream",
     "text": [
      "7 1 0\n",
      "10 2 5\n",
      "6 5 9\n",
      "9 9 9\n",
      "1 23 12\n"
     ]
    },
    {
     "data": {
      "text/plain": [
       "[None, None, None, None, None]"
      ]
     },
     "execution_count": 14,
     "metadata": {},
     "output_type": "execute_result"
    }
   ],
   "source": [
    "from operator import itemgetter\n",
    "\n",
    "nm = input().split()\n",
    "n = int(nm[0])\n",
    "m = int(nm[1])\n",
    "arr = []\n",
    "for _ in range(n):\n",
    "    arr.append(list(map(int, input().rstrip().split())))\n",
    "\n",
    "k = int(input()) \n",
    "attrs = sorted(arr, key = itemgetter(k))\n",
    "[print(*i) for i in attrs]\n"
   ]
  },
  {
   "cell_type": "markdown",
   "id": "b78cb0a2",
   "metadata": {},
   "source": [
    "### ginortS"
   ]
  },
  {
   "cell_type": "code",
   "execution_count": 15,
   "id": "4f397c34",
   "metadata": {},
   "outputs": [
    {
     "name": "stdout",
     "output_type": "stream",
     "text": [
      "ginortS1324\n"
     ]
    }
   ],
   "source": [
    "lowercase = []\n",
    "uppercase = []\n",
    "odd = []\n",
    "even = []\n",
    "\n",
    "s = input()\n",
    "for i in s:\n",
    "    if i.islower(): lowercase.append(i)\n",
    "    elif i.isupper(): uppercase.append(i)    \n",
    "    elif i.isdigit() and int(i) % 2 == 1: odd.append(i)\n",
    "    elif i.isdigit() and int(i) % 2 == 0: even.append(i)\n",
    "    \n",
    "lowercase.sort()\n",
    "uppercase.sort()\n",
    "odd.sort()\n",
    "even.sort()\n",
    "print(\"\".join(lowercase)+\"\".join(uppercase)+\"\".join(odd)+\"\".join(even))\n"
   ]
  }
 ],
 "metadata": {
  "kernelspec": {
   "display_name": "Python 3 (ipykernel)",
   "language": "python",
   "name": "python3"
  },
  "language_info": {
   "codemirror_mode": {
    "name": "ipython",
    "version": 3
   },
   "file_extension": ".py",
   "mimetype": "text/x-python",
   "name": "python",
   "nbconvert_exporter": "python",
   "pygments_lexer": "ipython3",
   "version": "3.12.6"
  }
 },
 "nbformat": 4,
 "nbformat_minor": 5
}
